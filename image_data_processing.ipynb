{
 "cells": [
  {
   "cell_type": "code",
   "execution_count": null,
   "id": "970499d6",
   "metadata": {},
   "outputs": [],
   "source": [
    "# # image_data_processing.ipynb (for Google Colab)\n",
    "\n",
    "# # Cell 1: Mount Google Drive\n",
    "# from google.colab import drive\n",
    "# drive.mount('/content/drive')"
   ]
  },
  {
   "cell_type": "code",
   "execution_count": 10,
   "id": "b8add38c",
   "metadata": {},
   "outputs": [],
   "source": [
    "# Cell 2: Import Libraries\n",
    "import os\n",
    "import torch\n",
    "from torchvision import transforms\n",
    "from PIL import Image\n",
    "import pickle\n",
    "import pandas as pd\n"
   ]
  },
  {
   "cell_type": "code",
   "execution_count": 2,
   "id": "b9f5584d",
   "metadata": {},
   "outputs": [],
   "source": [
    "# Cell 3: Paths and Setup\n",
    "image_dir = 'flicker/Images/'\n",
    "caption_file = 'flicker/captions.csv'"
   ]
  },
  {
   "cell_type": "code",
   "execution_count": null,
   "id": "f28fc0f5",
   "metadata": {},
   "outputs": [
    {
     "name": "stdout",
     "output_type": "stream",
     "text": [
      "True\n",
      "                       image  \\\n",
      "0  1000268201_693b08cb0e.jpg   \n",
      "1  1000268201_693b08cb0e.jpg   \n",
      "2  1000268201_693b08cb0e.jpg   \n",
      "3  1000268201_693b08cb0e.jpg   \n",
      "4  1000268201_693b08cb0e.jpg   \n",
      "\n",
      "                                             caption  \n",
      "0  A child in a pink dress is climbing up a set o...  \n",
      "1              A girl going into a wooden building .  \n",
      "2   A little girl climbing into a wooden playhouse .  \n",
      "3  A little girl climbing the stairs to her playh...  \n",
      "4  A little girl in a pink dress going into a woo...  \n",
      "(40455, 2)\n"
     ]
    }
   ],
   "source": [
    "print(os.path.exists(caption_file))  # Should print True\n",
    "\n",
    "df = pd.read_csv(caption_file)\n",
    "print(df.head())\n",
    "print(df.shape)  # Should print (1000, 2)\n"
   ]
  },
  {
   "cell_type": "code",
   "execution_count": null,
   "id": "89982a43",
   "metadata": {},
   "outputs": [
    {
     "name": "stdout",
     "output_type": "stream",
     "text": [
      "Loaded 8091 image captions.\n"
     ]
    }
   ],
   "source": [
    "# Cell 4: Define Image Preprocessing Function\n",
    "def load_captions_csv(caption_path):\n",
    "    df = pd.read_csv(caption_path)\n",
    "    image_captions = {}\n",
    "    for _, row in df.iterrows():\n",
    "        image_id = row['image']\n",
    "        caption = row['caption']\n",
    "        if image_id not in image_captions:\n",
    "            image_captions[image_id] = []\n",
    "        image_captions[image_id].append(caption)\n",
    "    return image_captions\n",
    "\n",
    "# Use the updated function\n",
    "captions = load_captions_csv(caption_file)\n",
    "print(f\"Loaded {len(captions)} image captions.\")\n"
   ]
  },
  {
   "cell_type": "code",
   "execution_count": null,
   "id": "2a16215f",
   "metadata": {},
   "outputs": [
    {
     "name": "stdout",
     "output_type": "stream",
     "text": [
      "Created 40455 image-caption pairs.\n",
      "\n",
      "Sample image-caption pairs:\n",
      "1. Image Path: flicker/Images/1000268201_693b08cb0e.jpg\n",
      "   Caption: A child in a pink dress is climbing up a set of stairs in an entry way .\n",
      "2. Image Path: flicker/Images/1000268201_693b08cb0e.jpg\n",
      "   Caption: A girl going into a wooden building .\n",
      "3. Image Path: flicker/Images/1000268201_693b08cb0e.jpg\n",
      "   Caption: A little girl climbing into a wooden playhouse .\n",
      "4. Image Path: flicker/Images/1000268201_693b08cb0e.jpg\n",
      "   Caption: A little girl climbing the stairs to her playhouse .\n",
      "5. Image Path: flicker/Images/1000268201_693b08cb0e.jpg\n",
      "   Caption: A little girl in a pink dress going into a wooden cabin .\n"
     ]
    }
   ],
   "source": [
    "# Cell 4: Data Preparation\n",
    "\n",
    "image_caption_pairs = []\n",
    "\n",
    "for image_id, caption_list in captions.items():\n",
    "    image_path = os.path.join(image_dir, image_id)\n",
    "    if os.path.exists(image_path):\n",
    "        for caption in caption_list:\n",
    "            image_caption_pairs.append((image_path, caption))  # include all captions\n",
    "\n",
    "print(f\"Created {len(image_caption_pairs)} image-caption pairs.\")\n",
    "\n",
    "# 🔍 Print a few sample pairs for verification\n",
    "print(\"\\nSample image-caption pairs:\")\n",
    "for i in range(5):  # show first 5\n",
    "    print(f\"{i+1}. Image Path: {image_caption_pairs[i][0]}\")\n",
    "    print(f\"   Caption: {image_caption_pairs[i][1]}\")\n"
   ]
  },
  {
   "cell_type": "code",
   "execution_count": null,
   "id": "d53579ca",
   "metadata": {},
   "outputs": [
    {
     "name": "stdout",
     "output_type": "stream",
     "text": [
      "Image preprocessing complete. Saved 40455 image-caption pairs to 'flicker/image_caption_pairs.pkl'.\n"
     ]
    }
   ],
   "source": [
    "# Cell 6: Save Pairs\n",
    "# Save the image-caption pairs\n",
    "with open('flicker/image_caption_pairs.pkl', 'wb') as f:\n",
    "    pickle.dump(image_caption_pairs, f)\n",
    "\n",
    "print(f\"Image preprocessing complete. Saved {len(image_caption_pairs)} image-caption pairs to 'flicker/image_caption_pairs.pkl'.\")\n"
   ]
  },
  {
   "cell_type": "code",
   "execution_count": 11,
   "id": "1ead8b9e",
   "metadata": {},
   "outputs": [
    {
     "name": "stdout",
     "output_type": "stream",
     "text": [
      "Loaded 40455 image-caption pairs.\n",
      "[('flicker/Images/1000268201_693b08cb0e.jpg', 'A child in a pink dress is climbing up a set of stairs in an entry way .'), ('flicker/Images/1000268201_693b08cb0e.jpg', 'A girl going into a wooden building .'), ('flicker/Images/1000268201_693b08cb0e.jpg', 'A little girl climbing into a wooden playhouse .'), ('flicker/Images/1000268201_693b08cb0e.jpg', 'A little girl climbing the stairs to her playhouse .'), ('flicker/Images/1000268201_693b08cb0e.jpg', 'A little girl in a pink dress going into a wooden cabin .')]\n"
     ]
    }
   ],
   "source": [
    "with open('flicker/image_caption_pairs.pkl', 'rb') as f:\n",
    "    frame_caption_pairs_loaded = pickle.load(f)\n",
    "\n",
    "print(f\"Loaded {len(frame_caption_pairs_loaded)} image-caption pairs.\")\n",
    "print(frame_caption_pairs_loaded[:5])  # Print first 5 pairs for verification"
   ]
  }
 ],
 "metadata": {
  "kernelspec": {
   "display_name": "Python 3",
   "language": "python",
   "name": "python3"
  },
  "language_info": {
   "codemirror_mode": {
    "name": "ipython",
    "version": 3
   },
   "file_extension": ".py",
   "mimetype": "text/x-python",
   "name": "python",
   "nbconvert_exporter": "python",
   "pygments_lexer": "ipython3",
   "version": "3.12.8"
  }
 },
 "nbformat": 4,
 "nbformat_minor": 5
}
