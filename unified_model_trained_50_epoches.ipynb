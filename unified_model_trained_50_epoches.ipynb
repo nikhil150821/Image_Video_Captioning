{
 "cells": [
  {
   "cell_type": "code",
   "execution_count": 1,
   "id": "702b7f5c",
   "metadata": {},
   "outputs": [],
   "source": [
    "# unified_model_training.ipynb (Updated for Revised Preprocessing)\n",
    "\n",
    "# # Cell 1: Mount Google Drive\n",
    "# from google.colab import drive\n",
    "# drive.mount('/content/drive')\n"
   ]
  },
  {
   "cell_type": "code",
   "execution_count": 2,
   "id": "08101824",
   "metadata": {},
   "outputs": [],
   "source": [
    "\n",
    "# Cell 2: Import Libraries\n",
    "import os\n",
    "import time\n",
    "import torch\n",
    "import pickle\n",
    "import random\n",
    "import numpy as np\n",
    "import torch.nn as nn\n",
    "from PIL import Image\n",
    "from tqdm import tqdm\n",
    "import matplotlib.pyplot as plt\n",
    "import torch.nn.functional as F\n",
    "from torchvision import transforms, models\n",
    "from torch.utils.data import Dataset, DataLoader\n",
    "from sklearn.model_selection import train_test_split\n",
    "from nltk.translate.bleu_score import sentence_bleu, SmoothingFunction,corpus_bleu\n"
   ]
  },
  {
   "cell_type": "code",
   "execution_count": 3,
   "id": "7b7b816f",
   "metadata": {},
   "outputs": [
    {
     "name": "stdout",
     "output_type": "stream",
     "text": [
      "Using device: cuda\n"
     ]
    }
   ],
   "source": [
    "\n",
    "# Cell 3: Paths and Device\n",
    "video_pairs_path = 'msrvtt_data/frame_caption_pairs.pkl'\n",
    "image_pairs_path = 'flicker/image_caption_pairs.pkl'\n",
    "vocab_path = 'vocab.pkl'\n",
    "\n",
    "device = torch.device(\"cuda\" if torch.cuda.is_available() else \"cpu\")\n",
    "print(f\"Using device: {device}\")\n"
   ]
  },
  {
   "cell_type": "code",
   "execution_count": 4,
   "id": "e7ffdcee",
   "metadata": {},
   "outputs": [],
   "source": [
    "\n",
    "# Cell 4: Dataset Class\n",
    "class CaptionDataset(Dataset):\n",
    "    def __init__(self, data_pairs, vocab, transform=None):\n",
    "        self.data = data_pairs\n",
    "        self.vocab = vocab\n",
    "        self.transform = transform\n",
    "\n",
    "    def __len__(self):\n",
    "        return len(self.data)\n",
    "\n",
    "    def __getitem__(self, idx):\n",
    "        image_path, caption = self.data[idx]\n",
    "        image = Image.open(image_path).convert(\"RGB\")\n",
    "        if self.transform:\n",
    "            image = self.transform(image)\n",
    "        tokens = [self.vocab['<start>']] + [self.vocab.get(word, self.vocab['<unk>']) for word in caption.lower().split()] + [self.vocab['<end>']]\n",
    "        return image, torch.tensor(tokens)\n"
   ]
  },
  {
   "cell_type": "code",
   "execution_count": 5,
   "id": "0275a39b",
   "metadata": {},
   "outputs": [],
   "source": [
    "\n",
    "# Cell 5: Transforms\n",
    "transform = transforms.Compose([\n",
    "    transforms.RandomResizedCrop(224, scale=(0.8, 1.0)),\n",
    "    transforms.RandomHorizontalFlip(),\n",
    "    transforms.ColorJitter(brightness=0.2, contrast=0.2, saturation=0.2, hue=0.05),\n",
    "    transforms.ToTensor(),\n",
    "    transforms.Normalize((0.485, 0.456, 0.406), (0.229, 0.224, 0.225))\n",
    "])"
   ]
  },
  {
   "cell_type": "code",
   "execution_count": 6,
   "id": "80b377b9",
   "metadata": {},
   "outputs": [],
   "source": [
    "\n",
    "# Cell 6: Load Datasets and Vocabulary\n",
    "with open(video_pairs_path, 'rb') as f:\n",
    "    video_data = pickle.load(f)\n",
    "\n",
    "with open(image_pairs_path, 'rb') as f:\n",
    "    image_data = pickle.load(f)\n",
    "\n",
    "with open(vocab_path, 'rb') as f:\n",
    "    vocab = pickle.load(f)\n",
    "\n",
    "inv_vocab = {idx: word for word, idx in vocab.items()}\n",
    "data_pairs = video_data + image_data\n",
    "dataset = CaptionDataset(data_pairs, vocab, transform)\n",
    "dataloader = DataLoader(dataset, batch_size=32, shuffle=True, collate_fn=lambda x: tuple(zip(*x)))\n"
   ]
  },
  {
   "cell_type": "code",
   "execution_count": 7,
   "id": "37c24d3a",
   "metadata": {},
   "outputs": [],
   "source": [
    "\n",
    "# CELL:6.1: validation loader & train loader\n",
    "train_pairs, val_pairs = train_test_split(data_pairs, test_size=0.1, random_state=42)\n",
    "\n",
    "train_dataset = CaptionDataset(train_pairs, vocab, transform)\n",
    "val_dataset = CaptionDataset(val_pairs, vocab, transform)\n",
    "\n",
    "train_loader = DataLoader(train_dataset, batch_size=32, shuffle=True, collate_fn=lambda x: tuple(zip(*x)))\n",
    "val_loader = DataLoader(val_dataset, batch_size=32, shuffle=False, collate_fn=lambda x: tuple(zip(*x)))\n"
   ]
  },
  {
   "cell_type": "code",
   "execution_count": 8,
   "id": "a58871cb",
   "metadata": {},
   "outputs": [],
   "source": [
    "\n",
    "# Cell 7: Encoder\n",
    "# class EncoderCNN(nn.Module):\n",
    "#     def __init__(self, embed_size):\n",
    "#         super(EncoderCNN, self).__init__()\n",
    "#         resnet = models.resnet50(pretrained=True)\n",
    "#         resnet.fc = nn.Identity()  # remove final FC layer\n",
    "#         modules = list(resnet.children())[:-2]\n",
    "#         self.resnet = nn.Sequential(*modules) # ResNet50 without the last two layers\n",
    "#         self.linear = nn.Linear(resnet.fc.in_features, embed_size)\n",
    "#         self.bn = nn.BatchNorm1d(embed_size, momentum=0.01)\n",
    "\n",
    "#     def forward(self, images):\n",
    "#         with torch.no_grad():\n",
    "#             features = self.resnet(images)  # shape: (batch_size, 2048, 1, 1)\n",
    "#             features = features.squeeze(-1).squeeze(-1)  # shape: (batch_size, 2048)\n",
    "#         features = self.bn(self.linear(features))  # shape: (batch_size, embed_size)\n",
    "#         return features\n",
    "\n",
    "import torch.nn.functional as F\n",
    "\n",
    "class EncoderCNN(nn.Module):\n",
    "    def __init__(self, embed_size):\n",
    "        super(EncoderCNN, self).__init__()\n",
    "        resnet = models.resnet50(pretrained=True)\n",
    "        modules = list(resnet.children())[:-2]  # Remove last FC and avgpool\n",
    "        self.resnet = nn.Sequential(*modules)\n",
    "        self.pool = nn.AdaptiveAvgPool2d((1, 1))  # to get 2048-dim\n",
    "        self.linear = nn.Linear(2048, embed_size)\n",
    "        self.bn = nn.BatchNorm1d(embed_size, momentum=0.01)\n",
    "\n",
    "    def forward(self, inputs):\n",
    "        \"\"\"\n",
    "        inputs: (B, C, H, W) for image or (B, T, C, H, W) for video\n",
    "        \"\"\"\n",
    "        if inputs.dim() == 4:  # Single image\n",
    "            with torch.no_grad():\n",
    "                features = self.resnet(inputs)  # (B, 2048, H', W')\n",
    "                features = self.pool(features).squeeze(-1).squeeze(-1)  # (B, 2048)\n",
    "            features = self.linear(features)  # (B, embed_size)\n",
    "            features = self.bn(features)\n",
    "            return features\n",
    "        \n",
    "        elif inputs.dim() == 5:  # Video: (B, T, C, H, W)\n",
    "            B, T, C, H, W = inputs.size()\n",
    "            inputs = inputs.view(B * T, C, H, W)\n",
    "            with torch.no_grad():\n",
    "                features = self.resnet(inputs)  # (B*T, 2048, H', W')\n",
    "                features = self.pool(features).squeeze(-1).squeeze(-1)  # (B*T, 2048)\n",
    "            features = self.linear(features)  # (B*T, embed_size)\n",
    "            features = self.bn(features)\n",
    "            features = features.view(B, T, -1)  # (B, T, embed_size)\n",
    "            features = features.mean(dim=1)  # aggregate frame features (B, embed_size)\n",
    "            return features\n",
    "\n",
    "        else:\n",
    "            raise ValueError(\"Unsupported input shape for EncoderCNN\")"
   ]
  },
  {
   "cell_type": "code",
   "execution_count": null,
   "id": "d2f490c1",
   "metadata": {},
   "outputs": [],
   "source": [
    "# Cell 8: Decoder\n",
    "# class DecoderRNN(nn.Module):\n",
    "#     def __init__(self, embed_size, hidden_size, vocab_size):\n",
    "#         super(DecoderRNN, self).__init__()\n",
    "#         self.embedding = nn.Embedding(vocab_size, embed_size)\n",
    "#         self.lstm = nn.LSTM(embed_size, hidden_size, batch_first=True)\n",
    "#         self.linear = nn.Linear(hidden_size, vocab_size)\n",
    "#         self.init_h = nn.Linear(embed_size, hidden_size)\n",
    "#         self.init_c = nn.Linear(embed_size, hidden_size)\n",
    "\n",
    "#     def forward(self, features, captions):\n",
    "#         embeddings = self.embedding(captions[:, :-1])\n",
    "#         h0 = self.init_h(features).unsqueeze(0)  # [1, batch, hidden]\n",
    "#         c0 = self.init_c(features).unsqueeze(0)\n",
    "#         hiddens, _ = self.lstm(embeddings, (h0, c0))\n",
    "#         outputs = self.linear(hiddens)\n",
    "#         return outputs\n",
    "    \n",
    "class DecoderRNN(nn.Module):\n",
    "    def __init__(self, embed_size, hidden_size, vocab_size, dropout=0.5):\n",
    "        super(DecoderRNN, self).__init__()\n",
    "        self.embedding = nn.Embedding(vocab_size, embed_size)\n",
    "        self.lstm = nn.LSTM(embed_size, hidden_size, batch_first=True)\n",
    "        self.dropout = nn.Dropout(dropout)\n",
    "        self.linear = nn.Linear(hidden_size, vocab_size)\n",
    "        self.init_h = nn.Linear(embed_size, hidden_size)\n",
    "        self.init_c = nn.Linear(embed_size, hidden_size)\n",
    "\n",
    "    def forward(self, features, captions):\n",
    "        embeddings = self.embedding(captions[:, :-1])\n",
    "        h0 = self.init_h(features).unsqueeze(0)\n",
    "        c0 = self.init_c(features).unsqueeze(0)\n",
    "        hiddens, _ = self.lstm(embeddings, (h0, c0))\n",
    "        outputs = self.linear(self.dropout(hiddens))\n",
    "        return outputs\n",
    "\n",
    "    def sample(self, features, max_len=20, beam_width=3):\n",
    "        \"\"\" Beam Search Decoding \"\"\"\n",
    "        vocab_size = self.embedding.num_embeddings\n",
    "        device = features.device\n",
    "        sequences = [[[], 0.0, (self.init_h(features).unsqueeze(0), self.init_c(features).unsqueeze(0))]]\n",
    "\n",
    "        for _ in range(max_len):\n",
    "            all_candidates = []\n",
    "            for seq, score, (h, c) in sequences:\n",
    "                input_token = torch.tensor([[vocab['<start>']] if not seq else [seq[-1]]], device=device)\n",
    "                embedded = self.embedding(input_token)\n",
    "                output, (h1, c1) = self.lstm(embedded, (h, c))\n",
    "                output = self.linear(output.squeeze(1))\n",
    "                log_probs = F.log_softmax(output, dim=-1)\n",
    "                topk_log_probs, topk_idx = log_probs.topk(beam_width)\n",
    "\n",
    "                for i in range(beam_width):\n",
    "                    candidate = seq + [topk_idx[0][i].item()]\n",
    "                    candidate_score = score + topk_log_probs[0][i].item()\n",
    "                    all_candidates.append((candidate, candidate_score, (h1, c1)))\n",
    "\n",
    "            sequences = sorted(all_candidates, key=lambda tup: tup[1], reverse=True)[:beam_width]\n",
    "\n",
    "        return sequences[0][0]  # Return best sequence\n"
   ]
  },
  {
   "cell_type": "code",
   "execution_count": 10,
   "id": "5765dc0a",
   "metadata": {},
   "outputs": [
    {
     "name": "stderr",
     "output_type": "stream",
     "text": [
      "c:\\Users\\Nikhil\\AppData\\Local\\Programs\\Python\\Python312\\Lib\\site-packages\\torchvision\\models\\_utils.py:208: UserWarning: The parameter 'pretrained' is deprecated since 0.13 and may be removed in the future, please use 'weights' instead.\n",
      "  warnings.warn(\n",
      "c:\\Users\\Nikhil\\AppData\\Local\\Programs\\Python\\Python312\\Lib\\site-packages\\torchvision\\models\\_utils.py:223: UserWarning: Arguments other than a weight enum or `None` for 'weights' are deprecated since 0.13 and may be removed in the future. The current behavior is equivalent to passing `weights=ResNet50_Weights.IMAGENET1K_V1`. You can also use `weights=ResNet50_Weights.DEFAULT` to get the most up-to-date weights.\n",
      "  warnings.warn(msg)\n"
     ]
    }
   ],
   "source": [
    "\n",
    "# Cell 9: Initialize and Train Model\n",
    "embed_size = 256\n",
    "hidden_size = 512\n",
    "vocab_size = len(vocab)\n",
    "\n",
    "encoder = EncoderCNN(embed_size).to(device)\n",
    "decoder = DecoderRNN(embed_size, hidden_size, vocab_size).to(device)\n",
    "\n",
    "params = list(decoder.parameters()) + list(encoder.linear.parameters()) + list(encoder.bn.parameters())\n",
    "criterion = nn.CrossEntropyLoss(ignore_index=vocab['<pad>'])\n",
    "optimizer = torch.optim.Adam(list(encoder.parameters()) + list(decoder.parameters()),lr=1e-4)\n",
    "\n",
    "def compute_bleu(references, candidates):\n",
    "    smoothie = SmoothingFunction().method4\n",
    "    return corpus_bleu([[ref] for ref in references], candidates, smoothing_function=smoothie)\n",
    "\n"
   ]
  },
  {
   "cell_type": "code",
   "execution_count": 12,
   "id": "0194e0c6",
   "metadata": {},
   "outputs": [
    {
     "name": "stdout",
     "output_type": "stream",
     "text": [
      "Checkpoint files in directory: ['checkpoint_epoch_1.pt', 'checkpoint_epoch_10.pt', 'checkpoint_epoch_11.pt', 'checkpoint_epoch_12.pt', 'checkpoint_epoch_13.pt', 'checkpoint_epoch_14.pt', 'checkpoint_epoch_15.pt', 'checkpoint_epoch_16.pt', 'checkpoint_epoch_17.pt', 'checkpoint_epoch_18.pt', 'checkpoint_epoch_19.pt', 'checkpoint_epoch_2.pt', 'checkpoint_epoch_20.pt', 'checkpoint_epoch_21.pt', 'checkpoint_epoch_22.pt', 'checkpoint_epoch_23.pt', 'checkpoint_epoch_24.pt', 'checkpoint_epoch_25.pt', 'checkpoint_epoch_26.pt', 'checkpoint_epoch_27.pt', 'checkpoint_epoch_28.pt', 'checkpoint_epoch_29.pt', 'checkpoint_epoch_3.pt', 'checkpoint_epoch_30.pt', 'checkpoint_epoch_31.pt', 'checkpoint_epoch_32.pt', 'checkpoint_epoch_33.pt', 'checkpoint_epoch_34.pt', 'checkpoint_epoch_35.pt', 'checkpoint_epoch_36.pt', 'checkpoint_epoch_37.pt', 'checkpoint_epoch_38.pt', 'checkpoint_epoch_39.pt', 'checkpoint_epoch_4.pt', 'checkpoint_epoch_40.pt', 'checkpoint_epoch_5.pt', 'checkpoint_epoch_6.pt', 'checkpoint_epoch_7.pt', 'checkpoint_epoch_8.pt', 'checkpoint_epoch_9.pt']\n"
     ]
    },
    {
     "name": "stderr",
     "output_type": "stream",
     "text": [
      "C:\\Users\\Nikhil\\AppData\\Local\\Temp\\ipykernel_1136\\1321424274.py:37: FutureWarning: You are using `torch.load` with `weights_only=False` (the current default value), which uses the default pickle module implicitly. It is possible to construct malicious pickle data which will execute arbitrary code during unpickling (See https://github.com/pytorch/pytorch/blob/main/SECURITY.md#untrusted-models for more details). In a future release, the default value for `weights_only` will be flipped to `True`. This limits the functions that could be executed during unpickling. Arbitrary objects will no longer be allowed to be loaded via this mode unless they are explicitly allowlisted by the user via `torch.serialization.add_safe_globals`. We recommend you start setting `weights_only=True` for any use case where you don't have full control of the loaded file. Please open an issue on GitHub for any issues related to this experimental feature.\n",
      "  checkpoint = torch.load(path)\n"
     ]
    },
    {
     "data": {
      "text/markdown": [
       "## 🔁 Checkpoint: `checkpoint_epoch_1.pt` (Epoch 1)"
      ],
      "text/plain": [
       "<IPython.core.display.Markdown object>"
      ]
     },
     "metadata": {},
     "output_type": "display_data"
    },
    {
     "name": "stdout",
     "output_type": "stream",
     "text": [
      "Accuracy: 34.3954%\n",
      "Train Loss: 4.5532\n",
      "Train Accuracy: 29.66%\n",
      "Validation Accuracy: 34.3954%\n",
      "BLEU Score: 4.7989\n",
      "✅ Best model saved.\n"
     ]
    },
    {
     "data": {
      "text/markdown": [
       "## 🔁 Checkpoint: `checkpoint_epoch_2.pt` (Epoch 2)"
      ],
      "text/plain": [
       "<IPython.core.display.Markdown object>"
      ]
     },
     "metadata": {},
     "output_type": "display_data"
    },
    {
     "name": "stdout",
     "output_type": "stream",
     "text": [
      "Accuracy: 37.5017%\n",
      "Train Loss: 3.6777\n",
      "Train Accuracy: 36.30%\n",
      "Validation Accuracy: 37.5017%\n",
      "BLEU Score: 5.8520\n",
      "✅ Best model saved.\n"
     ]
    },
    {
     "data": {
      "text/markdown": [
       "## 🔁 Checkpoint: `checkpoint_epoch_3.pt` (Epoch 3)"
      ],
      "text/plain": [
       "<IPython.core.display.Markdown object>"
      ]
     },
     "metadata": {},
     "output_type": "display_data"
    },
    {
     "name": "stdout",
     "output_type": "stream",
     "text": [
      "Accuracy: 39.4021%\n",
      "Train Loss: 3.3242\n",
      "Train Accuracy: 38.82%\n",
      "Validation Accuracy: 39.4021%\n",
      "BLEU Score: 6.0807\n",
      "✅ Best model saved.\n"
     ]
    },
    {
     "data": {
      "text/markdown": [
       "## 🔁 Checkpoint: `checkpoint_epoch_4.pt` (Epoch 4)"
      ],
      "text/plain": [
       "<IPython.core.display.Markdown object>"
      ]
     },
     "metadata": {},
     "output_type": "display_data"
    },
    {
     "name": "stdout",
     "output_type": "stream",
     "text": [
      "Accuracy: 40.9137%\n",
      "Train Loss: 3.0744\n",
      "Train Accuracy: 40.76%\n",
      "Validation Accuracy: 40.9137%\n",
      "BLEU Score: 6.7260\n",
      "✅ Best model saved.\n"
     ]
    },
    {
     "data": {
      "text/markdown": [
       "## 🔁 Checkpoint: `checkpoint_epoch_5.pt` (Epoch 5)"
      ],
      "text/plain": [
       "<IPython.core.display.Markdown object>"
      ]
     },
     "metadata": {},
     "output_type": "display_data"
    },
    {
     "name": "stdout",
     "output_type": "stream",
     "text": [
      "Accuracy: 42.3466%\n",
      "Train Loss: 2.8694\n",
      "Train Accuracy: 42.52%\n",
      "Validation Accuracy: 42.3466%\n",
      "BLEU Score: 7.2148\n",
      "✅ Best model saved.\n"
     ]
    },
    {
     "data": {
      "text/markdown": [
       "## 🔁 Checkpoint: `checkpoint_epoch_6.pt` (Epoch 6)"
      ],
      "text/plain": [
       "<IPython.core.display.Markdown object>"
      ]
     },
     "metadata": {},
     "output_type": "display_data"
    },
    {
     "name": "stdout",
     "output_type": "stream",
     "text": [
      "Accuracy: 43.6918%\n",
      "Train Loss: 2.6938\n",
      "Train Accuracy: 44.41%\n",
      "Validation Accuracy: 43.6918%\n",
      "BLEU Score: 7.4974\n",
      "✅ Best model saved.\n"
     ]
    },
    {
     "data": {
      "text/markdown": [
       "## 🔁 Checkpoint: `checkpoint_epoch_7.pt` (Epoch 7)"
      ],
      "text/plain": [
       "<IPython.core.display.Markdown object>"
      ]
     },
     "metadata": {},
     "output_type": "display_data"
    },
    {
     "name": "stdout",
     "output_type": "stream",
     "text": [
      "Accuracy: 45.2484%\n",
      "Train Loss: 2.5381\n",
      "Train Accuracy: 46.54%\n",
      "Validation Accuracy: 45.2484%\n",
      "BLEU Score: 8.0752\n",
      "✅ Best model saved.\n"
     ]
    },
    {
     "data": {
      "text/markdown": [
       "## 🔁 Checkpoint: `checkpoint_epoch_8.pt` (Epoch 8)"
      ],
      "text/plain": [
       "<IPython.core.display.Markdown object>"
      ]
     },
     "metadata": {},
     "output_type": "display_data"
    },
    {
     "name": "stdout",
     "output_type": "stream",
     "text": [
      "Accuracy: 46.6633%\n",
      "Train Loss: 2.4004\n",
      "Train Accuracy: 48.67%\n",
      "Validation Accuracy: 46.6633%\n",
      "BLEU Score: 8.8474\n",
      "✅ Best model saved.\n"
     ]
    },
    {
     "data": {
      "text/markdown": [
       "## 🔁 Checkpoint: `checkpoint_epoch_9.pt` (Epoch 9)"
      ],
      "text/plain": [
       "<IPython.core.display.Markdown object>"
      ]
     },
     "metadata": {},
     "output_type": "display_data"
    },
    {
     "name": "stdout",
     "output_type": "stream",
     "text": [
      "Accuracy: 48.2176%\n",
      "Train Loss: 2.2787\n",
      "Train Accuracy: 50.69%\n",
      "Validation Accuracy: 48.2176%\n",
      "BLEU Score: 9.8882\n",
      "✅ Best model saved.\n"
     ]
    },
    {
     "data": {
      "text/markdown": [
       "## 🔁 Checkpoint: `checkpoint_epoch_10.pt` (Epoch 10)"
      ],
      "text/plain": [
       "<IPython.core.display.Markdown object>"
      ]
     },
     "metadata": {},
     "output_type": "display_data"
    },
    {
     "name": "stdout",
     "output_type": "stream",
     "text": [
      "Accuracy: 49.4280%\n",
      "Train Loss: 2.1704\n",
      "Train Accuracy: 52.57%\n",
      "Validation Accuracy: 49.4280%\n",
      "BLEU Score: 10.3946\n",
      "✅ Best model saved.\n"
     ]
    },
    {
     "data": {
      "text/markdown": [
       "## 🔁 Checkpoint: `checkpoint_epoch_11.pt` (Epoch 11)"
      ],
      "text/plain": [
       "<IPython.core.display.Markdown object>"
      ]
     },
     "metadata": {},
     "output_type": "display_data"
    },
    {
     "name": "stdout",
     "output_type": "stream",
     "text": [
      "Accuracy: 50.5439%\n",
      "Train Loss: 2.0708\n",
      "Train Accuracy: 54.32%\n",
      "Validation Accuracy: 50.5439%\n",
      "BLEU Score: 11.6100\n",
      "✅ Best model saved.\n"
     ]
    },
    {
     "data": {
      "text/markdown": [
       "## 🔁 Checkpoint: `checkpoint_epoch_12.pt` (Epoch 12)"
      ],
      "text/plain": [
       "<IPython.core.display.Markdown object>"
      ]
     },
     "metadata": {},
     "output_type": "display_data"
    },
    {
     "name": "stdout",
     "output_type": "stream",
     "text": [
      "Accuracy: 51.9993%\n",
      "Train Loss: 1.9807\n",
      "Train Accuracy: 56.00%\n",
      "Validation Accuracy: 51.9993%\n",
      "BLEU Score: 12.7001\n",
      "✅ Best model saved.\n"
     ]
    },
    {
     "data": {
      "text/markdown": [
       "## 🔁 Checkpoint: `checkpoint_epoch_13.pt` (Epoch 13)"
      ],
      "text/plain": [
       "<IPython.core.display.Markdown object>"
      ]
     },
     "metadata": {},
     "output_type": "display_data"
    },
    {
     "name": "stdout",
     "output_type": "stream",
     "text": [
      "Accuracy: 53.1018%\n",
      "Train Loss: 1.8981\n",
      "Train Accuracy: 57.53%\n",
      "Validation Accuracy: 53.1018%\n",
      "BLEU Score: 13.1451\n",
      "✅ Best model saved.\n"
     ]
    },
    {
     "data": {
      "text/markdown": [
       "## 🔁 Checkpoint: `checkpoint_epoch_14.pt` (Epoch 14)"
      ],
      "text/plain": [
       "<IPython.core.display.Markdown object>"
      ]
     },
     "metadata": {},
     "output_type": "display_data"
    },
    {
     "name": "stdout",
     "output_type": "stream",
     "text": [
      "Accuracy: 53.9728%\n",
      "Train Loss: 1.8235\n",
      "Train Accuracy: 58.88%\n",
      "Validation Accuracy: 53.9728%\n",
      "BLEU Score: 14.5803\n",
      "✅ Best model saved.\n"
     ]
    },
    {
     "data": {
      "text/markdown": [
       "## 🔁 Checkpoint: `checkpoint_epoch_15.pt` (Epoch 15)"
      ],
      "text/plain": [
       "<IPython.core.display.Markdown object>"
      ]
     },
     "metadata": {},
     "output_type": "display_data"
    },
    {
     "name": "stdout",
     "output_type": "stream",
     "text": [
      "Accuracy: 54.5752%\n",
      "Train Loss: 1.7554\n",
      "Train Accuracy: 60.22%\n",
      "Validation Accuracy: 54.5752%\n",
      "BLEU Score: 15.3769\n",
      "✅ Best model saved.\n"
     ]
    },
    {
     "data": {
      "text/markdown": [
       "## 🔁 Checkpoint: `checkpoint_epoch_16.pt` (Epoch 16)"
      ],
      "text/plain": [
       "<IPython.core.display.Markdown object>"
      ]
     },
     "metadata": {},
     "output_type": "display_data"
    },
    {
     "name": "stdout",
     "output_type": "stream",
     "text": [
      "Accuracy: 55.7721%\n",
      "Train Loss: 1.6899\n",
      "Train Accuracy: 61.46%\n",
      "Validation Accuracy: 55.7721%\n",
      "BLEU Score: 16.7625\n",
      "✅ Best model saved.\n"
     ]
    },
    {
     "data": {
      "text/markdown": [
       "## 🔁 Checkpoint: `checkpoint_epoch_17.pt` (Epoch 17)"
      ],
      "text/plain": [
       "<IPython.core.display.Markdown object>"
      ]
     },
     "metadata": {},
     "output_type": "display_data"
    },
    {
     "name": "stdout",
     "output_type": "stream",
     "text": [
      "Accuracy: 56.5026%\n",
      "Train Loss: 1.6313\n",
      "Train Accuracy: 62.59%\n",
      "Validation Accuracy: 56.5026%\n",
      "BLEU Score: 17.5480\n",
      "✅ Best model saved.\n"
     ]
    },
    {
     "data": {
      "text/markdown": [
       "## 🔁 Checkpoint: `checkpoint_epoch_18.pt` (Epoch 18)"
      ],
      "text/plain": [
       "<IPython.core.display.Markdown object>"
      ]
     },
     "metadata": {},
     "output_type": "display_data"
    },
    {
     "name": "stdout",
     "output_type": "stream",
     "text": [
      "Accuracy: 57.2623%\n",
      "Train Loss: 1.5758\n",
      "Train Accuracy: 63.66%\n",
      "Validation Accuracy: 57.2623%\n",
      "BLEU Score: 18.6827\n",
      "✅ Best model saved.\n"
     ]
    },
    {
     "data": {
      "text/markdown": [
       "## 🔁 Checkpoint: `checkpoint_epoch_19.pt` (Epoch 19)"
      ],
      "text/plain": [
       "<IPython.core.display.Markdown object>"
      ]
     },
     "metadata": {},
     "output_type": "display_data"
    },
    {
     "name": "stdout",
     "output_type": "stream",
     "text": [
      "Accuracy: 57.7725%\n",
      "Train Loss: 1.5246\n",
      "Train Accuracy: 64.66%\n",
      "Validation Accuracy: 57.7725%\n",
      "BLEU Score: 19.2565\n",
      "✅ Best model saved.\n"
     ]
    },
    {
     "data": {
      "text/markdown": [
       "## 🔁 Checkpoint: `checkpoint_epoch_20.pt` (Epoch 20)"
      ],
      "text/plain": [
       "<IPython.core.display.Markdown object>"
      ]
     },
     "metadata": {},
     "output_type": "display_data"
    },
    {
     "name": "stdout",
     "output_type": "stream",
     "text": [
      "Accuracy: 58.3839%\n",
      "Train Loss: 1.4757\n",
      "Train Accuracy: 65.63%\n",
      "Validation Accuracy: 58.3839%\n",
      "BLEU Score: 20.4035\n",
      "✅ Best model saved.\n"
     ]
    },
    {
     "data": {
      "text/markdown": [
       "## 🔁 Checkpoint: `checkpoint_epoch_21.pt` (Epoch 21)"
      ],
      "text/plain": [
       "<IPython.core.display.Markdown object>"
      ]
     },
     "metadata": {},
     "output_type": "display_data"
    },
    {
     "name": "stdout",
     "output_type": "stream",
     "text": [
      "Accuracy: 58.8087%\n",
      "Train Loss: 1.4318\n",
      "Train Accuracy: 66.46%\n",
      "Validation Accuracy: 58.8087%\n",
      "BLEU Score: 20.9154\n",
      "✅ Best model saved.\n"
     ]
    },
    {
     "data": {
      "text/markdown": [
       "## 🔁 Checkpoint: `checkpoint_epoch_22.pt` (Epoch 22)"
      ],
      "text/plain": [
       "<IPython.core.display.Markdown object>"
      ]
     },
     "metadata": {},
     "output_type": "display_data"
    },
    {
     "name": "stdout",
     "output_type": "stream",
     "text": [
      "Accuracy: 59.1740%\n",
      "Train Loss: 1.3893\n",
      "Train Accuracy: 67.32%\n",
      "Validation Accuracy: 59.1740%\n",
      "BLEU Score: 21.7894\n",
      "✅ Best model saved.\n"
     ]
    },
    {
     "data": {
      "text/markdown": [
       "## 🔁 Checkpoint: `checkpoint_epoch_23.pt` (Epoch 23)"
      ],
      "text/plain": [
       "<IPython.core.display.Markdown object>"
      ]
     },
     "metadata": {},
     "output_type": "display_data"
    },
    {
     "name": "stdout",
     "output_type": "stream",
     "text": [
      "Accuracy: 59.5122%\n",
      "Train Loss: 1.3487\n",
      "Train Accuracy: 68.15%\n",
      "Validation Accuracy: 59.5122%\n",
      "BLEU Score: 22.4135\n",
      "✅ Best model saved.\n"
     ]
    },
    {
     "data": {
      "text/markdown": [
       "## 🔁 Checkpoint: `checkpoint_epoch_24.pt` (Epoch 24)"
      ],
      "text/plain": [
       "<IPython.core.display.Markdown object>"
      ]
     },
     "metadata": {},
     "output_type": "display_data"
    },
    {
     "name": "stdout",
     "output_type": "stream",
     "text": [
      "Accuracy: 59.7752%\n",
      "Train Loss: 1.3122\n",
      "Train Accuracy: 68.87%\n",
      "Validation Accuracy: 59.7752%\n",
      "BLEU Score: 22.5518\n",
      "✅ Best model saved.\n"
     ]
    },
    {
     "data": {
      "text/markdown": [
       "## 🔁 Checkpoint: `checkpoint_epoch_25.pt` (Epoch 25)"
      ],
      "text/plain": [
       "<IPython.core.display.Markdown object>"
      ]
     },
     "metadata": {},
     "output_type": "display_data"
    },
    {
     "name": "stdout",
     "output_type": "stream",
     "text": [
      "Accuracy: 60.0382%\n",
      "Train Loss: 1.2755\n",
      "Train Accuracy: 69.64%\n",
      "Validation Accuracy: 60.0382%\n",
      "BLEU Score: 22.8249\n",
      "✅ Best model saved.\n"
     ]
    },
    {
     "data": {
      "text/markdown": [
       "## 🔁 Checkpoint: `checkpoint_epoch_26.pt` (Epoch 26)"
      ],
      "text/plain": [
       "<IPython.core.display.Markdown object>"
      ]
     },
     "metadata": {},
     "output_type": "display_data"
    },
    {
     "name": "stdout",
     "output_type": "stream",
     "text": [
      "Accuracy: 60.4293%\n",
      "Train Loss: 1.2420\n",
      "Train Accuracy: 70.29%\n",
      "Validation Accuracy: 60.4293%\n",
      "BLEU Score: 23.9243\n",
      "✅ Best model saved.\n"
     ]
    },
    {
     "data": {
      "text/markdown": [
       "## 🔁 Checkpoint: `checkpoint_epoch_27.pt` (Epoch 27)"
      ],
      "text/plain": [
       "<IPython.core.display.Markdown object>"
      ]
     },
     "metadata": {},
     "output_type": "display_data"
    },
    {
     "name": "stdout",
     "output_type": "stream",
     "text": [
      "Accuracy: 60.7563%\n",
      "Train Loss: 1.2113\n",
      "Train Accuracy: 70.85%\n",
      "Validation Accuracy: 60.7563%\n",
      "BLEU Score: 23.5957\n",
      "✅ Best model saved.\n"
     ]
    },
    {
     "data": {
      "text/markdown": [
       "## 🔁 Checkpoint: `checkpoint_epoch_28.pt` (Epoch 28)"
      ],
      "text/plain": [
       "<IPython.core.display.Markdown object>"
      ]
     },
     "metadata": {},
     "output_type": "display_data"
    },
    {
     "name": "stdout",
     "output_type": "stream",
     "text": [
      "Accuracy: 60.7327%\n",
      "Train Loss: 1.1801\n",
      "Train Accuracy: 71.53%\n",
      "Validation Accuracy: 60.7327%\n",
      "BLEU Score: 24.0327\n",
      "✅ Best model saved.\n"
     ]
    },
    {
     "data": {
      "text/markdown": [
       "## 🔁 Checkpoint: `checkpoint_epoch_29.pt` (Epoch 29)"
      ],
      "text/plain": [
       "<IPython.core.display.Markdown object>"
      ]
     },
     "metadata": {},
     "output_type": "display_data"
    },
    {
     "name": "stdout",
     "output_type": "stream",
     "text": [
      "Accuracy: 60.8350%\n",
      "Train Loss: 1.1513\n",
      "Train Accuracy: 72.08%\n",
      "Validation Accuracy: 60.8350%\n",
      "BLEU Score: 25.2045\n",
      "✅ Best model saved.\n"
     ]
    },
    {
     "data": {
      "text/markdown": [
       "## 🔁 Checkpoint: `checkpoint_epoch_30.pt` (Epoch 30)"
      ],
      "text/plain": [
       "<IPython.core.display.Markdown object>"
      ]
     },
     "metadata": {},
     "output_type": "display_data"
    },
    {
     "name": "stdout",
     "output_type": "stream",
     "text": [
      "Accuracy: 61.2306%\n",
      "Train Loss: 1.1223\n",
      "Train Accuracy: 72.70%\n",
      "Validation Accuracy: 61.2306%\n",
      "BLEU Score: 24.0753\n",
      "✅ Best model saved.\n"
     ]
    },
    {
     "data": {
      "text/markdown": [
       "## 🔁 Checkpoint: `checkpoint_epoch_31.pt` (Epoch 31)"
      ],
      "text/plain": [
       "<IPython.core.display.Markdown object>"
      ]
     },
     "metadata": {},
     "output_type": "display_data"
    },
    {
     "name": "stdout",
     "output_type": "stream",
     "text": [
      "Accuracy: 60.5271%\n",
      "Train Loss: 1.2261\n",
      "Train Accuracy: 69.91%\n",
      "Validation Accuracy: 60.5271%\n",
      "BLEU Score: 20.2068\n",
      "✅ Best model saved.\n"
     ]
    },
    {
     "data": {
      "text/markdown": [
       "## 🔁 Checkpoint: `checkpoint_epoch_32.pt` (Epoch 32)"
      ],
      "text/plain": [
       "<IPython.core.display.Markdown object>"
      ]
     },
     "metadata": {},
     "output_type": "display_data"
    },
    {
     "name": "stdout",
     "output_type": "stream",
     "text": [
      "Accuracy: 60.5541%\n",
      "Train Loss: 1.1926\n",
      "Train Accuracy: 70.71%\n",
      "Validation Accuracy: 60.5541%\n",
      "BLEU Score: 19.7747\n",
      "✅ Best model saved.\n"
     ]
    },
    {
     "data": {
      "text/markdown": [
       "## 🔁 Checkpoint: `checkpoint_epoch_33.pt` (Epoch 33)"
      ],
      "text/plain": [
       "<IPython.core.display.Markdown object>"
      ]
     },
     "metadata": {},
     "output_type": "display_data"
    },
    {
     "name": "stdout",
     "output_type": "stream",
     "text": [
      "Accuracy: 60.7496%\n",
      "Train Loss: 1.1692\n",
      "Train Accuracy: 71.19%\n",
      "Validation Accuracy: 60.7496%\n",
      "BLEU Score: 20.6930\n",
      "✅ Best model saved.\n"
     ]
    },
    {
     "data": {
      "text/markdown": [
       "## 🔁 Checkpoint: `checkpoint_epoch_34.pt` (Epoch 34)"
      ],
      "text/plain": [
       "<IPython.core.display.Markdown object>"
      ]
     },
     "metadata": {},
     "output_type": "display_data"
    },
    {
     "name": "stdout",
     "output_type": "stream",
     "text": [
      "Accuracy: 61.0283%\n",
      "Train Loss: 1.1448\n",
      "Train Accuracy: 71.77%\n",
      "Validation Accuracy: 61.0283%\n",
      "BLEU Score: 20.4398\n",
      "✅ Best model saved.\n"
     ]
    },
    {
     "data": {
      "text/markdown": [
       "## 🔁 Checkpoint: `checkpoint_epoch_35.pt` (Epoch 35)"
      ],
      "text/plain": [
       "<IPython.core.display.Markdown object>"
      ]
     },
     "metadata": {},
     "output_type": "display_data"
    },
    {
     "name": "stdout",
     "output_type": "stream",
     "text": [
      "Accuracy: 60.6732%\n",
      "Train Loss: 1.1223\n",
      "Train Accuracy: 72.21%\n",
      "Validation Accuracy: 60.6732%\n",
      "BLEU Score: 20.3314\n",
      "✅ Best model saved.\n"
     ]
    },
    {
     "data": {
      "text/markdown": [
       "## 🔁 Checkpoint: `checkpoint_epoch_36.pt` (Epoch 36)"
      ],
      "text/plain": [
       "<IPython.core.display.Markdown object>"
      ]
     },
     "metadata": {},
     "output_type": "display_data"
    },
    {
     "name": "stdout",
     "output_type": "stream",
     "text": [
      "Accuracy: 61.1609%\n",
      "Train Loss: 1.1011\n",
      "Train Accuracy: 72.68%\n",
      "Validation Accuracy: 61.1609%\n",
      "BLEU Score: 21.1527\n",
      "✅ Best model saved.\n"
     ]
    },
    {
     "data": {
      "text/markdown": [
       "## 🔁 Checkpoint: `checkpoint_epoch_37.pt` (Epoch 37)"
      ],
      "text/plain": [
       "<IPython.core.display.Markdown object>"
      ]
     },
     "metadata": {},
     "output_type": "display_data"
    },
    {
     "name": "stdout",
     "output_type": "stream",
     "text": [
      "Accuracy: 61.5228%\n",
      "Train Loss: 1.0790\n",
      "Train Accuracy: 73.16%\n",
      "Validation Accuracy: 61.5228%\n",
      "BLEU Score: 21.1950\n",
      "✅ Best model saved.\n"
     ]
    },
    {
     "data": {
      "text/markdown": [
       "## 🔁 Checkpoint: `checkpoint_epoch_38.pt` (Epoch 38)"
      ],
      "text/plain": [
       "<IPython.core.display.Markdown object>"
      ]
     },
     "metadata": {},
     "output_type": "display_data"
    },
    {
     "name": "stdout",
     "output_type": "stream",
     "text": [
      "Accuracy: 61.4745%\n",
      "Train Loss: 1.0599\n",
      "Train Accuracy: 73.53%\n",
      "Validation Accuracy: 61.4745%\n",
      "BLEU Score: 20.7097\n",
      "✅ Best model saved.\n"
     ]
    },
    {
     "data": {
      "text/markdown": [
       "## 🔁 Checkpoint: `checkpoint_epoch_39.pt` (Epoch 39)"
      ],
      "text/plain": [
       "<IPython.core.display.Markdown object>"
      ]
     },
     "metadata": {},
     "output_type": "display_data"
    },
    {
     "name": "stdout",
     "output_type": "stream",
     "text": [
      "Accuracy: 61.6273%\n",
      "Train Loss: 1.0421\n",
      "Train Accuracy: 73.86%\n",
      "Validation Accuracy: 61.6273%\n",
      "BLEU Score: 21.5234\n",
      "✅ Best model saved.\n"
     ]
    },
    {
     "data": {
      "text/markdown": [
       "## 🔁 Checkpoint: `checkpoint_epoch_40.pt` (Epoch 40)"
      ],
      "text/plain": [
       "<IPython.core.display.Markdown object>"
      ]
     },
     "metadata": {},
     "output_type": "display_data"
    },
    {
     "name": "stdout",
     "output_type": "stream",
     "text": [
      "Accuracy: 61.9240%\n",
      "Train Loss: 1.0243\n",
      "Train Accuracy: 74.26%\n",
      "Validation Accuracy: 61.9240%\n",
      "BLEU Score: 20.9384\n",
      "✅ Best model saved.\n",
      "Found checkpoint 'checkpoint_epoch_40.pt'\n",
      " \n",
      "Resuming from epoch 40...\n",
      " \n"
     ]
    },
    {
     "name": "stderr",
     "output_type": "stream",
     "text": [
      "C:\\Users\\Nikhil\\AppData\\Local\\Temp\\ipykernel_1136\\1321424274.py:64: FutureWarning: You are using `torch.load` with `weights_only=False` (the current default value), which uses the default pickle module implicitly. It is possible to construct malicious pickle data which will execute arbitrary code during unpickling (See https://github.com/pytorch/pytorch/blob/main/SECURITY.md#untrusted-models for more details). In a future release, the default value for `weights_only` will be flipped to `True`. This limits the functions that could be executed during unpickling. Arbitrary objects will no longer be allowed to be loaded via this mode unless they are explicitly allowlisted by the user via `torch.serialization.add_safe_globals`. We recommend you start setting `weights_only=True` for any use case where you don't have full control of the loaded file. Please open an issue on GitHub for any issues related to this experimental feature.\n",
      "  checkpoint = torch.load(os.path.join(checkpoint_dir, latest_checkpoint))\n"
     ]
    },
    {
     "name": "stdout",
     "output_type": "stream",
     "text": [
      "Resuming from epoch 40\n",
      "\n",
      "[Epoch 41/50]\n"
     ]
    },
    {
     "data": {
      "application/vnd.jupyter.widget-view+json": {
       "model_id": "5b9ba441848240adb41b3d0ed56e3248",
       "version_major": 2,
       "version_minor": 0
      },
      "text/plain": [
       "  0%|          | 0/2123 [00:00<?, ?it/s]"
      ]
     },
     "metadata": {},
     "output_type": "display_data"
    },
    {
     "name": "stdout",
     "output_type": "stream",
     "text": [
      "Testing\n"
     ]
    },
    {
     "data": {
      "application/vnd.jupyter.widget-view+json": {
       "model_id": "4252495961404d4d8d07a6121d0fff8c",
       "version_major": 2,
       "version_minor": 0
      },
      "text/plain": [
       "  0%|          | 0/236 [00:00<?, ?it/s]"
      ]
     },
     "metadata": {},
     "output_type": "display_data"
    },
    {
     "name": "stdout",
     "output_type": "stream",
     "text": [
      "Accuracy 61.80602383\n",
      "[Epoch 41] Train Loss: 1.0053, Train Acc: 74.71%\n",
      "Validation Acc: 61.81%, BLEU Score: 0.2173\n",
      "\n",
      "[Epoch 42/50]\n"
     ]
    },
    {
     "data": {
      "application/vnd.jupyter.widget-view+json": {
       "model_id": "aaa57a4353624144a413ccd118886706",
       "version_major": 2,
       "version_minor": 0
      },
      "text/plain": [
       "  0%|          | 0/2123 [00:00<?, ?it/s]"
      ]
     },
     "metadata": {},
     "output_type": "display_data"
    },
    {
     "name": "stdout",
     "output_type": "stream",
     "text": [
      "Testing\n"
     ]
    },
    {
     "data": {
      "application/vnd.jupyter.widget-view+json": {
       "model_id": "c1d59a7854cc4433aa41717f279772dd",
       "version_major": 2,
       "version_minor": 0
      },
      "text/plain": [
       "  0%|          | 0/236 [00:00<?, ?it/s]"
      ]
     },
     "metadata": {},
     "output_type": "display_data"
    },
    {
     "name": "stdout",
     "output_type": "stream",
     "text": [
      "Accuracy 61.68801978\n",
      "[Epoch 42] Train Loss: 0.9883, Train Acc: 75.06%\n",
      "Validation Acc: 61.69%, BLEU Score: 0.2116\n",
      "\n",
      "[Epoch 43/50]\n"
     ]
    },
    {
     "data": {
      "application/vnd.jupyter.widget-view+json": {
       "model_id": "59639e62e42844dc9cdb0235273ed0b8",
       "version_major": 2,
       "version_minor": 0
      },
      "text/plain": [
       "  0%|          | 0/2123 [00:00<?, ?it/s]"
      ]
     },
     "metadata": {},
     "output_type": "display_data"
    },
    {
     "name": "stdout",
     "output_type": "stream",
     "text": [
      "Testing\n"
     ]
    },
    {
     "data": {
      "application/vnd.jupyter.widget-view+json": {
       "model_id": "a30e817b196a4a52b48d191c64084436",
       "version_major": 2,
       "version_minor": 0
      },
      "text/plain": [
       "  0%|          | 0/236 [00:00<?, ?it/s]"
      ]
     },
     "metadata": {},
     "output_type": "display_data"
    },
    {
     "name": "stdout",
     "output_type": "stream",
     "text": [
      "Accuracy 61.80939537\n",
      "[Epoch 43] Train Loss: 0.9721, Train Acc: 75.47%\n",
      "Validation Acc: 61.81%, BLEU Score: 0.2104\n",
      "\n",
      "[Epoch 44/50]\n"
     ]
    },
    {
     "data": {
      "application/vnd.jupyter.widget-view+json": {
       "model_id": "a2652ae468e44ad990d33ae6b4d80f4b",
       "version_major": 2,
       "version_minor": 0
      },
      "text/plain": [
       "  0%|          | 0/2123 [00:00<?, ?it/s]"
      ]
     },
     "metadata": {},
     "output_type": "display_data"
    },
    {
     "name": "stdout",
     "output_type": "stream",
     "text": [
      "Testing\n"
     ]
    },
    {
     "data": {
      "application/vnd.jupyter.widget-view+json": {
       "model_id": "b74f854bb94d4777b8e9c574a5bde959",
       "version_major": 2,
       "version_minor": 0
      },
      "text/plain": [
       "  0%|          | 0/236 [00:00<?, ?it/s]"
      ]
     },
     "metadata": {},
     "output_type": "display_data"
    },
    {
     "name": "stdout",
     "output_type": "stream",
     "text": [
      "Accuracy 61.81501461\n",
      "[Epoch 44] Train Loss: 0.9552, Train Acc: 75.80%\n",
      "Validation Acc: 61.82%, BLEU Score: 0.2107\n",
      "\n",
      "[Epoch 45/50]\n"
     ]
    },
    {
     "data": {
      "application/vnd.jupyter.widget-view+json": {
       "model_id": "56a0cfdc807e4302b6dd7c29325d06ab",
       "version_major": 2,
       "version_minor": 0
      },
      "text/plain": [
       "  0%|          | 0/2123 [00:00<?, ?it/s]"
      ]
     },
     "metadata": {},
     "output_type": "display_data"
    },
    {
     "name": "stdout",
     "output_type": "stream",
     "text": [
      "Testing\n"
     ]
    },
    {
     "data": {
      "application/vnd.jupyter.widget-view+json": {
       "model_id": "79753a4af4bb45ac9937d9971be43391",
       "version_major": 2,
       "version_minor": 0
      },
      "text/plain": [
       "  0%|          | 0/236 [00:00<?, ?it/s]"
      ]
     },
     "metadata": {},
     "output_type": "display_data"
    },
    {
     "name": "stdout",
     "output_type": "stream",
     "text": [
      "Accuracy 61.85210160\n",
      "[Epoch 45] Train Loss: 0.9386, Train Acc: 76.24%\n",
      "Validation Acc: 61.85%, BLEU Score: 0.2099\n",
      "\n",
      "[Epoch 46/50]\n"
     ]
    },
    {
     "data": {
      "application/vnd.jupyter.widget-view+json": {
       "model_id": "7df4cfa9c7f44de18e7b470e09261054",
       "version_major": 2,
       "version_minor": 0
      },
      "text/plain": [
       "  0%|          | 0/2123 [00:00<?, ?it/s]"
      ]
     },
     "metadata": {},
     "output_type": "display_data"
    },
    {
     "name": "stdout",
     "output_type": "stream",
     "text": [
      "Testing\n"
     ]
    },
    {
     "data": {
      "application/vnd.jupyter.widget-view+json": {
       "model_id": "4338082f0973484b99c44fddc9f1713d",
       "version_major": 2,
       "version_minor": 0
      },
      "text/plain": [
       "  0%|          | 0/236 [00:00<?, ?it/s]"
      ]
     },
     "metadata": {},
     "output_type": "display_data"
    },
    {
     "name": "stdout",
     "output_type": "stream",
     "text": [
      "Accuracy 61.98246797\n",
      "[Epoch 46] Train Loss: 0.9240, Train Acc: 76.53%\n",
      "Validation Acc: 61.98%, BLEU Score: 0.2090\n",
      "✅ Best model saved.\n",
      "\n",
      "\n",
      "[Epoch 47/50]\n"
     ]
    },
    {
     "data": {
      "application/vnd.jupyter.widget-view+json": {
       "model_id": "360c18ac5be24a9396e572ad643acf21",
       "version_major": 2,
       "version_minor": 0
      },
      "text/plain": [
       "  0%|          | 0/2123 [00:00<?, ?it/s]"
      ]
     },
     "metadata": {},
     "output_type": "display_data"
    },
    {
     "name": "stdout",
     "output_type": "stream",
     "text": [
      "Testing\n"
     ]
    },
    {
     "data": {
      "application/vnd.jupyter.widget-view+json": {
       "model_id": "2b916e6ed63f4eef899c2edfee665d5e",
       "version_major": 2,
       "version_minor": 0
      },
      "text/plain": [
       "  0%|          | 0/236 [00:00<?, ?it/s]"
      ]
     },
     "metadata": {},
     "output_type": "display_data"
    },
    {
     "name": "stdout",
     "output_type": "stream",
     "text": [
      "Accuracy 62.13193976\n",
      "[Epoch 47] Train Loss: 0.9096, Train Acc: 76.83%\n",
      "Validation Acc: 62.13%, BLEU Score: 0.2087\n",
      "✅ Best model saved.\n",
      "\n",
      "\n",
      "[Epoch 48/50]\n"
     ]
    },
    {
     "data": {
      "application/vnd.jupyter.widget-view+json": {
       "model_id": "2c5a2ad26b624128a79ff8b271a594f5",
       "version_major": 2,
       "version_minor": 0
      },
      "text/plain": [
       "  0%|          | 0/2123 [00:00<?, ?it/s]"
      ]
     },
     "metadata": {},
     "output_type": "display_data"
    },
    {
     "name": "stdout",
     "output_type": "stream",
     "text": [
      "Testing\n"
     ]
    },
    {
     "data": {
      "application/vnd.jupyter.widget-view+json": {
       "model_id": "c5288ae5752e4f6aa89eb8d4210bb512",
       "version_major": 2,
       "version_minor": 0
      },
      "text/plain": [
       "  0%|          | 0/236 [00:00<?, ?it/s]"
      ]
     },
     "metadata": {},
     "output_type": "display_data"
    },
    {
     "name": "stdout",
     "output_type": "stream",
     "text": [
      "Accuracy 62.32299393\n",
      "[Epoch 48] Train Loss: 0.8919, Train Acc: 77.26%\n",
      "Validation Acc: 62.32%, BLEU Score: 0.2166\n",
      "✅ Best model saved.\n",
      "\n",
      "\n",
      "[Epoch 49/50]\n"
     ]
    },
    {
     "data": {
      "application/vnd.jupyter.widget-view+json": {
       "model_id": "2e766700abbc4b758147fba185aaff56",
       "version_major": 2,
       "version_minor": 0
      },
      "text/plain": [
       "  0%|          | 0/2123 [00:00<?, ?it/s]"
      ]
     },
     "metadata": {},
     "output_type": "display_data"
    },
    {
     "name": "stdout",
     "output_type": "stream",
     "text": [
      "Testing\n"
     ]
    },
    {
     "data": {
      "application/vnd.jupyter.widget-view+json": {
       "model_id": "7499346873c24ed599c0a022cec845e4",
       "version_major": 2,
       "version_minor": 0
      },
      "text/plain": [
       "  0%|          | 0/236 [00:00<?, ?it/s]"
      ]
     },
     "metadata": {},
     "output_type": "display_data"
    },
    {
     "name": "stdout",
     "output_type": "stream",
     "text": [
      "Accuracy 62.33648011\n",
      "[Epoch 49] Train Loss: 0.8796, Train Acc: 77.52%\n",
      "Validation Acc: 62.34%, BLEU Score: 0.2163\n",
      "✅ Best model saved.\n",
      "\n",
      "\n",
      "[Epoch 50/50]\n"
     ]
    },
    {
     "data": {
      "application/vnd.jupyter.widget-view+json": {
       "model_id": "a3bafe28cba141d1ab03d3287da6220b",
       "version_major": 2,
       "version_minor": 0
      },
      "text/plain": [
       "  0%|          | 0/2123 [00:00<?, ?it/s]"
      ]
     },
     "metadata": {},
     "output_type": "display_data"
    },
    {
     "name": "stdout",
     "output_type": "stream",
     "text": [
      "Testing\n"
     ]
    },
    {
     "data": {
      "application/vnd.jupyter.widget-view+json": {
       "model_id": "9290f711a5da4b7e96f0c22a52abd987",
       "version_major": 2,
       "version_minor": 0
      },
      "text/plain": [
       "  0%|          | 0/236 [00:00<?, ?it/s]"
      ]
     },
     "metadata": {},
     "output_type": "display_data"
    },
    {
     "name": "stdout",
     "output_type": "stream",
     "text": [
      "Accuracy 62.35446168\n",
      "[Epoch 50] Train Loss: 0.8660, Train Acc: 77.84%\n",
      "Validation Acc: 62.35%, BLEU Score: 0.2128\n",
      "✅ Best model saved.\n",
      "\n"
     ]
    },
    {
     "data": {
      "text/markdown": [
       "## 🖼️🎬 Model trained For (Epoch 50)"
      ],
      "text/plain": [
       "<IPython.core.display.Markdown object>"
      ]
     },
     "metadata": {},
     "output_type": "display_data"
    },
    {
     "name": "stdout",
     "output_type": "stream",
     "text": [
      "\n",
      "📦 Unified model saved as 'unified_model_epoch_50.pth'\n",
      "🏆 Best Accuracy: 77.84%\n",
      "📈 Final Accuracy: 77.84%\n",
      "📝 Final BLEU Score: 0.2128\n",
      "Training complete.\n"
     ]
    }
   ],
   "source": [
    "\n",
    "import os\n",
    "import torch\n",
    "from tqdm.notebook import tqdm\n",
    "from IPython.display import display, Markdown\n",
    "\n",
    "# Define your model, loss function, optimizer, and other variables\n",
    "# These should be initialized before this code snippet\n",
    "# e.g., encoder, decoder, optimizer, criterion, vocab, etc.\n",
    "\n",
    "num_epochs = 50\n",
    "best_val_acc = 0.0\n",
    "losses = []\n",
    "accuracies = []\n",
    "bleu_scores = []\n",
    "checkpoint_dir = './checkpoints/'  # Directory where checkpoints are saved\n",
    "\n",
    "# Find the latest checkpoint\n",
    "checkpoint_files = [f for f in os.listdir(checkpoint_dir) if f.endswith('.pt')]\n",
    "\n",
    "# Print out filenames to understand the format\n",
    "print(\"Checkpoint files in directory:\", checkpoint_files)\n",
    "\n",
    "# If filenames are like \"checkpoint_epoch_X.pt\", sort by the epoch number\n",
    "try:\n",
    "    # Sort files based on the epoch number found in the filename (assuming format \"checkpoint_epoch_X.pt\")\n",
    "    checkpoint_files = sorted(checkpoint_files, key=lambda x: int(x.split('_')[2].split('.')[0]))\n",
    "    latest_checkpoint = checkpoint_files[-1] if checkpoint_files else None\n",
    "except IndexError as e:\n",
    "    print(\"Error parsing filenames. Please check the filenames of your checkpoints.\")\n",
    "    raise e\n",
    "\n",
    "# Initialize start_epoch to 0 if no checkpoint is found\n",
    "start_epoch = 0\n",
    "\n",
    "for ckpt_file in checkpoint_files:\n",
    "    path = os.path.join(checkpoint_dir, ckpt_file)\n",
    "    checkpoint = torch.load(path)\n",
    "    epoch_num = checkpoint.get('epoch', 'N/A')\n",
    "    val_acc = checkpoint.get('val_accuracy', 'N/A')\n",
    "    losses = checkpoint.get('losses', [])\n",
    "    accuracies = checkpoint.get('accuracies', [])\n",
    "    bleu_scores = checkpoint.get('bleu_scores', [])\n",
    "\n",
    "    # Header\n",
    "    display(Markdown(f\"## 🔁 Checkpoint: `{ckpt_file}` (Epoch {epoch_num})\"))\n",
    "\n",
    "    # Body\n",
    "    print(f\"Accuracy: {val_acc:.4f}%\" if isinstance(val_acc, float) else f\"Accuracy: {val_acc}\")\n",
    "    if losses:\n",
    "        print(f\"Train Loss: {losses[-1]:.4f}\")\n",
    "    if accuracies:\n",
    "        print(f\"Train Accuracy: {accuracies[-1]*100:.2f}%\")\n",
    "        print(f\"Validation Accuracy: {val_acc:.4f}%\")\n",
    "    if bleu_scores:\n",
    "        print(f\"BLEU Score: {bleu_scores[-1]*100:.4f}\")\n",
    "        print(\"✅ Best model saved.\")\n",
    "\n",
    "\n",
    "if latest_checkpoint:\n",
    "    print(f\"Found checkpoint '{latest_checkpoint}'\")\n",
    "    print(\" \")\n",
    "    print(f\"Resuming from epoch {latest_checkpoint.split('_')[2].split('.')[0]}...\")\n",
    "    print(\" \")\n",
    "    checkpoint = torch.load(os.path.join(checkpoint_dir, latest_checkpoint))\n",
    "    start_epoch = checkpoint['epoch']  # Start from the saved epoch\n",
    "    encoder.load_state_dict(checkpoint['encoder_state_dict'])\n",
    "    decoder.load_state_dict(checkpoint['decoder_state_dict'])\n",
    "    optimizer.load_state_dict(checkpoint['optimizer_state_dict'])\n",
    "    best_val_acc = checkpoint['val_accuracy']\n",
    "    \n",
    "    # Load losses, accuracies, and bleu_scores if they exist in the checkpoint\n",
    "    losses = checkpoint.get('losses', [])\n",
    "    accuracies = checkpoint.get('accuracies', [])\n",
    "    bleu_scores = checkpoint.get('bleu_scores', [])\n",
    "    \n",
    "    print(f\"Resuming from epoch {start_epoch}\")\n",
    "else:\n",
    "    print(\"No checkpoint found. Starting from scratch.\")\n",
    "\n",
    "# Training loop\n",
    "for epoch in range(start_epoch, num_epochs):\n",
    "    encoder.train()\n",
    "    decoder.train()\n",
    "    total_loss = 0\n",
    "    total_correct = 0\n",
    "    total_words = 0\n",
    "\n",
    "    print(f\"\\n[Epoch {epoch + 1}/{num_epochs}]\")\n",
    "    train_loop = tqdm(enumerate(train_loader), total=len(train_loader), leave=False)\n",
    "\n",
    "    for batch_idx, (images, captions) in train_loop:\n",
    "        images = torch.stack(images).to(device)\n",
    "        captions = nn.utils.rnn.pad_sequence(captions, batch_first=True, padding_value=vocab['<pad>']).to(device)\n",
    "\n",
    "        features = encoder(images)\n",
    "        outputs = decoder(features, captions)\n",
    "\n",
    "        targets = captions[:, 1:]\n",
    "        outputs = outputs[:, :targets.size(1), :]\n",
    "\n",
    "        loss = criterion(outputs.reshape(-1, vocab_size), targets.reshape(-1))\n",
    "\n",
    "        optimizer.zero_grad()\n",
    "        loss.backward()\n",
    "        optimizer.step()\n",
    "\n",
    "        total_loss += loss.item()\n",
    "        predicted = outputs.argmax(2)\n",
    "        mask = targets != vocab['<pad>']\n",
    "        correct = (predicted == targets) & mask\n",
    "        total_correct += correct.sum().item()\n",
    "        total_words += mask.sum().item()\n",
    "\n",
    "        acc = 100 * total_correct / total_words\n",
    "        train_loop.set_description(f\"[Batch {batch_idx + 1} / {len(train_loader)}] [Loss: {loss.item():.6f}, Acc: {acc:.2f}%]\")\n",
    "\n",
    "    # Epoch summary\n",
    "    epoch_loss = total_loss / len(train_loader)\n",
    "    epoch_acc = total_correct / total_words\n",
    "    losses.append(epoch_loss)\n",
    "    accuracies.append(epoch_acc)\n",
    "\n",
    "    print(\"Testing\")\n",
    "    encoder.eval()\n",
    "    decoder.eval()\n",
    "    test_loss = 0\n",
    "    test_correct = 0\n",
    "    test_words = 0\n",
    "    references = []\n",
    "    candidates = []\n",
    "\n",
    "    val_loop = tqdm(enumerate(val_loader), total=len(val_loader), leave=False)\n",
    "    with torch.no_grad():\n",
    "        for test_batch_idx, (images, captions) in val_loop:\n",
    "            images = torch.stack(images).to(device)\n",
    "            captions = nn.utils.rnn.pad_sequence(captions, batch_first=True, padding_value=vocab['<pad>']).to(device)\n",
    "\n",
    "            features = encoder(images)\n",
    "            outputs = decoder(features, captions)\n",
    "\n",
    "            targets = captions[:, 1:]\n",
    "            outputs = outputs[:, :targets.size(1), :]\n",
    "\n",
    "            loss = criterion(outputs.reshape(-1, vocab_size), targets.reshape(-1))\n",
    "            predicted = outputs.argmax(2)\n",
    "            mask = targets != vocab['<pad>']\n",
    "            correct = (predicted == targets) & mask\n",
    "            test_correct += correct.sum().item()\n",
    "            test_words += mask.sum().item()\n",
    "\n",
    "            acc = 100 * test_correct / test_words\n",
    "            val_loop.set_description(f\"[Batch {test_batch_idx + 1} / {len(val_loader)}]  [Loss: {loss.item():.6f}, Acc: {acc:.2f}%]\")\n",
    "\n",
    "            for pred_seq, target_seq in zip(predicted, targets):\n",
    "                pred_tokens = [inv_vocab[idx.item()] for idx in pred_seq if idx.item() not in {vocab['<pad>'], vocab['<end>']}]\n",
    "                target_tokens = [inv_vocab[idx.item()] for idx in target_seq if idx.item() not in {vocab['<pad>'], vocab['<end>']}]\n",
    "                candidates.append(pred_tokens)\n",
    "                references.append(target_tokens)\n",
    "\n",
    "    val_acc = 100 * test_correct / test_words\n",
    "    bleu_score = compute_bleu(references, candidates)\n",
    "    bleu_scores.append(bleu_score)\n",
    "\n",
    "    print(f\"Accuracy {val_acc:.8f}\")\n",
    "\n",
    "    print(f\"[Epoch {epoch+1}] Train Loss: {epoch_loss:.4f}, Train Acc: {epoch_acc*100:.2f}%\")\n",
    "    print(f\"Validation Acc: {val_acc:.2f}%, BLEU Score: {bleu_score:.4f}\")\n",
    "\n",
    "    # Save checkpoint\n",
    "    checkpoint = {\n",
    "        'epoch': epoch + 1,\n",
    "        'encoder_state_dict': encoder.state_dict(),\n",
    "        'decoder_state_dict': decoder.state_dict(),\n",
    "        'optimizer_state_dict': optimizer.state_dict(),\n",
    "        'val_accuracy': val_acc,\n",
    "        'train_accuracy': epoch_acc,  # ✅ Added train accuracy\n",
    "        'vocab': vocab,\n",
    "        'losses': losses,\n",
    "        'accuracies': accuracies,\n",
    "        'bleu_scores': bleu_scores\n",
    "    }\n",
    "    \n",
    "    torch.save(checkpoint, os.path.join(checkpoint_dir, f\"checkpoint_epoch_{epoch+1}.pt\"))\n",
    "\n",
    "    # Save best model\n",
    "    if val_acc > best_val_acc:\n",
    "        best_val_acc = val_acc\n",
    "        torch.save(checkpoint, os.path.join(checkpoint_dir, \"best_model.pt\"))\n",
    "        print(\"✅ Best model saved.\\n\")\n",
    "\n",
    "# Final save\n",
    "torch.save(encoder.state_dict(), 'unified_encoder.pth')\n",
    "torch.save(decoder.state_dict(), 'unified_decoder.pth')\n",
    "torch.save({\n",
    "    'encoder_state_dict': encoder.state_dict(),\n",
    "    'decoder_state_dict': decoder.state_dict(),\n",
    "    'vocab': vocab\n",
    "}, 'unified_model_epoch_50.pth')\n",
    "\n",
    "display(Markdown(f\"## 🖼️🎬 Model trained For (Epoch {num_epochs})\"))\n",
    "\n",
    "print(\"\\n📦 Unified model saved as 'unified_model_epoch_50.pth'\")\n",
    "print(f\"🏆 Best Accuracy: {max(accuracies) * 100:.2f}%\")\n",
    "print(f\"📈 Final Accuracy: {accuracies[-1] * 100:.2f}%\")\n",
    "print(f\"📝 Final BLEU Score: {bleu_scores[-1]:.4f}\")\n",
    "print(\"Training complete.\")\n"
   ]
  },
  {
   "cell_type": "code",
   "execution_count": 18,
   "id": "14fbdb31",
   "metadata": {},
   "outputs": [
    {
     "data": {
      "text/plain": [
       "<matplotlib.legend.Legend at 0x1c033ff6cf0>"
      ]
     },
     "execution_count": 18,
     "metadata": {},
     "output_type": "execute_result"
    },
    {
     "data": {
      "image/png": "[encoded data removed]",
      "text/plain": [
       "<Figure size 2200x800 with 2 Axes>"
      ]
     },
     "metadata": {},
     "output_type": "display_data"
    }
   ],
   "source": [
    "# Plot the training loss, accuracy, and BLEU score\n",
    "plt.figure(figsize=(22, 8))\n",
    "\n",
    "# Loss Plot\n",
    "plt.subplot(1, 2, 1)\n",
    "plt.plot(range(1, len(losses) + 1), losses,color='red', marker='o', label='Loss')\n",
    "plt.title('Training Loss')\n",
    "plt.xlabel('Epoch')\n",
    "plt.ylabel('Loss')\n",
    "plt.grid(True)\n",
    "plt.legend()\n",
    "\n",
    "# Accuracy Plot\n",
    "plt.subplot(1, 2, 2)\n",
    "plt.plot(range(1, len(accuracies) + 1), accuracies, marker='o', color='green', label='Accuracy')\n",
    "plt.title('Training Accuracy')\n",
    "plt.xlabel('Epoch')\n",
    "plt.ylabel('Accuracy')\n",
    "plt.grid(True)\n",
    "plt.legend()\n",
    "\n"
   ]
  },
  {
   "cell_type": "code",
   "execution_count": 14,
   "id": "5c5473f9",
   "metadata": {},
   "outputs": [
    {
     "data": {
      "image/png": "[encoded data removed]",
      "text/plain": [
       "<Figure size 1800x800 with 1 Axes>"
      ]
     },
     "metadata": {},
     "output_type": "display_data"
    }
   ],
   "source": [
    "\n",
    "# BLEU Score Plot\n",
    "plt.figure(figsize=(18, 8))\n",
    "plt.subplot(1, 1, 1)\n",
    "plt.plot(range(1, len(bleu_scores) + 1), bleu_scores, marker='o', color='blue', label='BLEU Score')\n",
    "plt.title('BLEU Score')\n",
    "plt.xlabel('Epoch')\n",
    "plt.ylabel('BLEU Score')\n",
    "plt.grid(True)\n",
    "plt.legend()\n",
    "\n",
    "plt.tight_layout()\n",
    "plt.show()\n"
   ]
  },
  {
   "cell_type": "code",
   "execution_count": 15,
   "id": "9905ebe2",
   "metadata": {},
   "outputs": [
    {
     "data": {
      "image/png": "[encoded data removed]",
      "text/plain": [
       "<Figure size 1800x800 with 1 Axes>"
      ]
     },
     "metadata": {},
     "output_type": "display_data"
    }
   ],
   "source": [
    "\n",
    "epochs = list(range(1, num_epochs + 1))\n",
    "plt.figure(figsize=(18, 8))\n",
    "\n",
    "plt.plot(epochs, accuracies, label=\"Accuracy\", color='green', marker='o')\n",
    "plt.plot(epochs, bleu_scores, label=\"BLEU Score\", color='blue', marker='x')\n",
    "plt.xlabel(\"Epoch\")\n",
    "plt.ylabel(\"Score\")\n",
    "plt.title(\"Accuracy vs BLEU Score over Epochs\")\n",
    "plt.legend()\n",
    "plt.grid(True, linestyle='--', alpha=0.6)\n",
    "plt.tight_layout()\n",
    "plt.show()\n"
   ]
  }
 ],
 "metadata": {
  "kernelspec": {
   "display_name": "Python 3",
   "language": "python",
   "name": "python3"
  },
  "language_info": {
   "codemirror_mode": {
    "name": "ipython",
    "version": 3
   },
   "file_extension": ".py",
   "mimetype": "text/x-python",
   "name": "python",
   "nbconvert_exporter": "python",
   "pygments_lexer": "ipython3",
   "version": "3.12.8"
  }
 },
 "nbformat": 4,
 "nbformat_minor": 5
}
